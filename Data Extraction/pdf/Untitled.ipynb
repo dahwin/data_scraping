{
 "cells": [
  {
   "cell_type": "code",
   "execution_count": 5,
   "id": "1c0c82bb-41ab-4bc6-b514-22d96a051a55",
   "metadata": {},
   "outputs": [
    {
     "name": "stdout",
     "output_type": "stream",
     "text": [
      "Text extracted and saved to output.txt\n"
     ]
    }
   ],
   "source": [
    "from PyPDF2 import PdfReader\n",
    "\n",
    "# Path to the PDF file\n",
    "pdf_file_path = r\"G:\\download\\Documents\\al_quran_bangla_mormobani_20180717.pdf\"\n",
    "\n",
    "# Function to extract text from a PDF and save it to a text file\n",
    "def extract_text_from_pdf(pdf_path, txt_path):\n",
    "    try:\n",
    "        pdf_reader = PdfReader(pdf_path)\n",
    "        text = \"\"\n",
    "        \n",
    "        for page_num in range(len(pdf_reader.pages)):\n",
    "            page = pdf_reader.pages[page_num]\n",
    "            page_text = page.extract_text()\n",
    "            \n",
    "            # Remove non-ASCII characters and keep only ASCII characters\n",
    "            ascii_text = \"\".join(char for char in page_text if ord(char) < 128)\n",
    "            \n",
    "            text += ascii_text\n",
    "        \n",
    "        with open(txt_path, \"w\", encoding=\"utf-8\") as txt_file:\n",
    "            txt_file.write(text)\n",
    "        \n",
    "        print(f\"Text extracted and saved to {txt_path}\")\n",
    "    except Exception as e:\n",
    "        print(f\"Error: {str(e)}\")\n",
    "\n",
    "# Output text file path\n",
    "output_text_file = \"output.txt\"\n",
    "\n",
    "# Call the function to extract text and save it to the text file\n",
    "extract_text_from_pdf(pdf_file_path, output_text_file)\n",
    "\n"
   ]
  },
  {
   "cell_type": "code",
   "execution_count": null,
   "id": "9d4d05c2-266d-4b6b-94b3-13575beff840",
   "metadata": {},
   "outputs": [],
   "source": [
    "import PyPDF2\n",
    "\n",
    "pdfFileObj = open(r'G:\\download\\Documents\\al_quran_bangla_mormobani_20180717.pdf', 'rb')\n",
    "pdfReader = PyPDF2.PdfReader(pdfFileObj)\n",
    "\n",
    "num = len(pdfReader.pages)  # Use len(reader.pages) to get the number of pages\n",
    "\n",
    "for a in range(num):\n",
    "    pageObj = pdfReader.pages[a]  # Use pdfReader.pages[a] to get the page object\n",
    "    text = pageObj.extract_text()\n",
    "    print(text.encode('UTF-16').decode(' UTF-16'))\n"
   ]
  },
  {
   "cell_type": "code",
   "execution_count": 2,
   "id": "a2d64f93-ccac-4185-8a1c-7c3deabfe9cb",
   "metadata": {},
   "outputs": [
    {
     "name": "stdout",
     "output_type": "stream",
     "text": [
      "834\n",
      "\n"
     ]
    }
   ],
   "source": [
    "\n",
    "# importing required modules \n",
    "from PyPDF2 import PdfReader \n",
    "  \n",
    "# creating a pdf reader object \n",
    "reader = PdfReader(r\"G:\\download\\Documents\\al_quran_bangla_mormobani_20180717.pdf\") \n",
    "  \n",
    "# printing number of pages in pdf file \n",
    "print(len(reader.pages)) \n",
    "  \n",
    "# getting a specific page from the pdf file \n",
    "page = reader.pages[0] \n",
    "  \n",
    "# extracting text from page \n",
    "text = page.extract_text() \n",
    "print(text) "
   ]
  },
  {
   "cell_type": "code",
   "execution_count": 17,
   "id": "89c19b83-e7d6-4c7c-a7c1-61037060cf5b",
   "metadata": {},
   "outputs": [],
   "source": [
    "with open('quran.txt', 'r', encoding='utf-8') as f:\n",
    "    text = f.read()\n",
    "\n",
    "# here are all the unique characters that occur in this text\n",
    "chars = sorted(list(set(text)))\n",
    "vocab_size = len(chars)\n",
    "# create a mapping from characters to integers\n",
    "stoi = { ch:i for i,ch in enumerate(chars) }\n",
    "itos = { i:ch for i,ch in enumerate(chars) }\n",
    "encode = lambda s: [stoi[c] for c in s] # encoder: take a string, output a list of integers\n",
    "decode = lambda l: ''.join([itos[i] for i in l]) # decoder: take a list of integers, output a string"
   ]
  },
  {
   "cell_type": "code",
   "execution_count": 18,
   "id": "a4429ab1-084a-428b-b4cc-572c49037f2d",
   "metadata": {},
   "outputs": [
    {
     "name": "stdout",
     "output_type": "stream",
     "text": [
      "[72, 81, 65, 81, 74, 53, 89, 65, 1, 49, 81, 67, 48, 82]\n"
     ]
    }
   ],
   "source": [
    "tex = 'মাদারচোদ খানকি'\n",
    "enc = encode(tex)\n",
    "print(enc)"
   ]
  },
  {
   "cell_type": "code",
   "execution_count": 19,
   "id": "f8dade83-f9e8-4f8b-9e30-f70fa8a64ab1",
   "metadata": {},
   "outputs": [
    {
     "data": {
      "text/plain": [
       "'মাদারচোদ খানকি'"
      ]
     },
     "execution_count": 19,
     "metadata": {},
     "output_type": "execute_result"
    }
   ],
   "source": [
    "decode(enc)"
   ]
  },
  {
   "cell_type": "code",
   "execution_count": 20,
   "id": "a6838804-5495-415b-8e07-54cc8f76a26f",
   "metadata": {},
   "outputs": [
    {
     "data": {
      "text/plain": [
       "110"
      ]
     },
     "execution_count": 20,
     "metadata": {},
     "output_type": "execute_result"
    }
   ],
   "source": [
    "vocab_size"
   ]
  },
  {
   "cell_type": "code",
   "execution_count": null,
   "id": "568870e5-e224-457e-b413-032c282b24d2",
   "metadata": {},
   "outputs": [],
   "source": []
  }
 ],
 "metadata": {
  "kernelspec": {
   "display_name": "Python 3 (ipykernel)",
   "language": "python",
   "name": "python3"
  },
  "language_info": {
   "codemirror_mode": {
    "name": "ipython",
    "version": 3
   },
   "file_extension": ".py",
   "mimetype": "text/x-python",
   "name": "python",
   "nbconvert_exporter": "python",
   "pygments_lexer": "ipython3",
   "version": "3.10.5"
  }
 },
 "nbformat": 4,
 "nbformat_minor": 5
}
